{
 "cells": [
  {
   "cell_type": "code",
   "execution_count": 1,
   "metadata": {},
   "outputs": [],
   "source": [
    "import pandas as pd\n",
    "import numpy as np\n",
    "import json"
   ]
  },
  {
   "cell_type": "code",
   "execution_count": 2,
   "metadata": {},
   "outputs": [],
   "source": [
    "import os\n",
    "\n",
    "def search(dirname):\n",
    "    json_list = []\n",
    "    filenames = os.listdir(dirname)\n",
    "    for filename in filenames:\n",
    "        full_filename = os.path.join(dirname, filename)\n",
    "        ext = os.path.splitext(full_filename)[-1]\n",
    "        if ext == '.json': \n",
    "            json_list.append(full_filename.split('/')[-1])\n",
    "            \n",
    "    return json_list\n"
   ]
  },
  {
   "cell_type": "code",
   "execution_count": 9,
   "metadata": {},
   "outputs": [
    {
     "name": "stdout",
     "output_type": "stream",
     "text": [
      "sign ladybug_panoramic_000203.json\n",
      "sign ladybug_panoramic_000226.json\n",
      "sign ladybug_panoramic_000205.json\n",
      "sign ladybug_panoramic_000192.json\n",
      "sign ladybug_panoramic_000192.json\n",
      "sign ladybug_panoramic_000204.json\n",
      "sign ladybug_panoramic_000195.json\n",
      "sign ladybug_panoramic_000208.json\n",
      "sign ladybug_panoramic_000202.json\n",
      "sign ladybug_panoramic_000198.json\n",
      "sign ladybug_panoramic_000197.json\n",
      "sign ladybug_panoramic_000223.json\n",
      "sign ladybug_panoramic_000207.json\n",
      "sign ladybug_panoramic_000196.json\n",
      "sign ladybug_panoramic_000200.json\n",
      "sign ladybug_panoramic_000222.json\n",
      "sign ladybug_panoramic_000201.json\n",
      "sign ladybug_panoramic_000224.json\n",
      "sign ladybug_panoramic_000229.json\n",
      "sign ladybug_panoramic_000225.json\n",
      "sign ladybug_panoramic_000206.json\n",
      "sign ladybug_panoramic_000206.json\n",
      "sign ladybug_panoramic_000188.json\n",
      "sign ladybug_panoramic_000194.json\n",
      "sign ladybug_panoramic_000199.json\n",
      "sign ladybug_panoramic_000227.json\n",
      "sign ladybug_panoramic_000228.json\n"
     ]
    }
   ],
   "source": [
    "findThings='sign'\n",
    "\n",
    "json_ls = search('/home/munkyu/new하늘숲4/')\n",
    "\n",
    "for file_length in range(len(json_ls)):\n",
    "    with open('../new하늘숲4/{}'.format(json_ls[file_length]), 'r') as f:\n",
    "        json_data = json.load(f)\n",
    "    for idx in range(len(json_data['shapes'])):\n",
    "        if json_data['shapes'][idx]['label'] == findThings:\n",
    "            print(findThings,json_ls[file_length])\n",
    "            "
   ]
  },
  {
   "cell_type": "code",
   "execution_count": 12,
   "metadata": {},
   "outputs": [],
   "source": [
    "json_ls = search('/home/munkyu/바탕화면/trans/변환4/')\n",
    "\n",
    "            \n",
    "for file_length in range(len(json_ls)):\n",
    "    with open('./변환4/{}'.format(json_ls[file_length]), 'r') as f:\n",
    "        json_data = json.load(f)\n",
    "    for idx in range(len(json_data['shapes'])):\n",
    "        if json_data['shapes'][idx]['label'] == findThings:\n",
    "            print(findThings,json_ls[file_length])"
   ]
  }
 ],
 "metadata": {
  "kernelspec": {
   "display_name": "Python 3",
   "language": "python",
   "name": "python3"
  },
  "language_info": {
   "codemirror_mode": {
    "name": "ipython",
    "version": 3
   },
   "file_extension": ".py",
   "mimetype": "text/x-python",
   "name": "python",
   "nbconvert_exporter": "python",
   "pygments_lexer": "ipython3",
   "version": "3.6.13"
  }
 },
 "nbformat": 4,
 "nbformat_minor": 2
}
