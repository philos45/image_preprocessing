{
 "cells": [
  {
   "cell_type": "code",
   "execution_count": 2,
   "metadata": {},
   "outputs": [],
   "source": [
    "import pandas as pd\n",
    "import numpy as np\n",
    "import json"
   ]
  },
  {
   "cell_type": "code",
   "execution_count": 3,
   "metadata": {},
   "outputs": [],
   "source": [
    "import os\n",
    "\n",
    "def search(dirname):\n",
    "    json_list = []\n",
    "    filenames = os.listdir(dirname)\n",
    "    for filename in filenames:\n",
    "        full_filename = os.path.join(dirname, filename)\n",
    "        ext = os.path.splitext(full_filename)[-1]\n",
    "        if ext == '.json': \n",
    "            json_list.append(full_filename.split('/')[-1])\n",
    "            \n",
    "    return json_list\n",
    "json_ls = search('/home/munkyu/trans_code/하늘숲재가공/')"
   ]
  },
  {
   "cell_type": "code",
   "execution_count": 4,
   "metadata": {},
   "outputs": [],
   "source": [
    "for file_length in range(len(json_ls)):\n",
    "    with open('./하늘숲재가공/{}'.format(json_ls[file_length]), 'r') as f:\n",
    "        json_data = json.load(f)\n",
    "        \n",
    "    del_list=[]\n",
    "    cnt = 0\n",
    "    for i in range(500):\n",
    "        try:\n",
    "            if json_data['shapes'][cnt]['label'] in ['no']:\n",
    "                del_list.append(cnt)\n",
    "        except:\n",
    "            break\n",
    "        cnt+=1\n",
    "\n",
    "    del_list.sort(reverse=True)\n",
    "    for d in del_list:\n",
    "        del json_data['shapes'][d]\n",
    "        \n",
    "    with open('./하늘숲재가공/{}'.format(json_ls[file_length]), 'w', encoding='utf-8') as make_file:\n",
    "\n",
    "        json.dump(json_data, make_file, indent=\"\\t\")"
   ]
  },
  {
   "cell_type": "code",
   "execution_count": null,
   "metadata": {},
   "outputs": [],
   "source": []
  }
 ],
 "metadata": {
  "kernelspec": {
   "display_name": "Python 3",
   "language": "python",
   "name": "python3"
  },
  "language_info": {
   "codemirror_mode": {
    "name": "ipython",
    "version": 3
   },
   "file_extension": ".py",
   "mimetype": "text/x-python",
   "name": "python",
   "nbconvert_exporter": "python",
   "pygments_lexer": "ipython3",
   "version": "3.6.13"
  }
 },
 "nbformat": 4,
 "nbformat_minor": 2
}
