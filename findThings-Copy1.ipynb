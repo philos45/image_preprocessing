{
 "cells": [
  {
   "cell_type": "code",
   "execution_count": 7,
   "metadata": {},
   "outputs": [],
   "source": [
    "import pandas as pd\n",
    "import numpy as np\n",
    "import json"
   ]
  },
  {
   "cell_type": "code",
   "execution_count": 8,
   "metadata": {},
   "outputs": [],
   "source": [
    "import os\n",
    "\n",
    "def search(dirname):\n",
    "    json_list = []\n",
    "    filenames = os.listdir(dirname)\n",
    "    for filename in filenames:\n",
    "        full_filename = os.path.join(dirname, filename)\n",
    "        ext = os.path.splitext(full_filename)[-1]\n",
    "        if ext == '.json': \n",
    "            json_list.append(full_filename.split('/')[-1])\n",
    "            \n",
    "    return json_list\n"
   ]
  },
  {
   "cell_type": "code",
   "execution_count": 9,
   "metadata": {},
   "outputs": [],
   "source": [
    "json_ls = sorted(search('/home/munkyu/trans_code/평동데이터/'))"
   ]
  },
  {
   "cell_type": "code",
   "execution_count": 10,
   "metadata": {},
   "outputs": [],
   "source": [
    "thing_list = []\n",
    "for file_length in range(len(json_ls)):\n",
    "    with open('./평동데이터/{}'.format(json_ls[file_length]), 'r') as f:\n",
    "        json_data = json.load(f)\n",
    "\n",
    "    for idx in range(len(json_data['shapes'])):\n",
    "        thing_list.append(json_data['shapes'][idx]['label'])\n",
    "            \n"
   ]
  },
  {
   "cell_type": "code",
   "execution_count": 11,
   "metadata": {},
   "outputs": [
    {
     "data": {
      "text/plain": [
       "['add',\n",
       " 'buildsign',\n",
       " 'crosswalk',\n",
       " 'door',\n",
       " 'guidesign',\n",
       " 'lamp',\n",
       " 'lanebar',\n",
       " 'noparking',\n",
       " 'road',\n",
       " 'roadsign',\n",
       " 'roof',\n",
       " 'secom',\n",
       " 'stairs',\n",
       " 'switchborad',\n",
       " 'trafficlight',\n",
       " 'tree',\n",
       " 'walklight',\n",
       " 'walkroad',\n",
       " 'wall',\n",
       " 'window']"
      ]
     },
     "execution_count": 11,
     "metadata": {},
     "output_type": "execute_result"
    }
   ],
   "source": [
    "sorted(set(thing_list))"
   ]
  },
  {
   "cell_type": "code",
   "execution_count": 12,
   "metadata": {},
   "outputs": [],
   "source": [
    "pd.DataFrame(sorted(set(thing_list))).to_csv(\"Fdong_class.csv\")"
   ]
  },
  {
   "cell_type": "code",
   "execution_count": 45,
   "metadata": {},
   "outputs": [
    {
     "name": "stdout",
     "output_type": "stream",
     "text": [
      "sign_a ladybug_panoramic_000203.json\n",
      "sign_a ladybug_panoramic_000226.json\n",
      "sign_a ladybug_panoramic_000205.json\n",
      "sign_a ladybug_panoramic_000192.json\n",
      "sign_a ladybug_panoramic_000192.json\n",
      "sign_a ladybug_panoramic_000204.json\n",
      "sign_a ladybug_panoramic_000195.json\n",
      "sign_a ladybug_panoramic_000208.json\n",
      "sign_a ladybug_panoramic_000202.json\n",
      "sign_a ladybug_panoramic_000198.json\n",
      "sign_a ladybug_panoramic_000197.json\n",
      "sign_a ladybug_panoramic_000223.json\n",
      "sign_a ladybug_panoramic_000207.json\n",
      "sign_a ladybug_panoramic_000196.json\n",
      "sign_a ladybug_panoramic_000200.json\n",
      "sign_a ladybug_panoramic_000222.json\n",
      "sign_a ladybug_panoramic_000201.json\n",
      "sign_a ladybug_panoramic_000224.json\n",
      "sign_a ladybug_panoramic_000229.json\n",
      "sign_a ladybug_panoramic_000225.json\n",
      "sign_a ladybug_panoramic_000206.json\n",
      "sign_a ladybug_panoramic_000206.json\n",
      "sign_a ladybug_panoramic_000188.json\n",
      "sign_a ladybug_panoramic_000194.json\n",
      "sign_a ladybug_panoramic_000199.json\n",
      "sign_a ladybug_panoramic_000227.json\n",
      "sign_a ladybug_panoramic_000228.json\n"
     ]
    }
   ],
   "source": [
    "findThings='sign_a'\n",
    "json_ls = search('/home/munkyu/하늘숲4/')\n",
    "\n",
    "            \n",
    "for file_length in range(len(json_ls)):\n",
    "    with open('../하늘숲4/{}'.format(json_ls[file_length]), 'r') as f:\n",
    "        json_data = json.load(f)\n",
    "    for idx in range(len(json_data['shapes'])):\n",
    "        if json_data['shapes'][idx]['label'] == findThings:\n",
    "            print(findThings,json_ls[file_length])"
   ]
  }
 ],
 "metadata": {
  "kernelspec": {
   "display_name": "Python 3",
   "language": "python",
   "name": "python3"
  },
  "language_info": {
   "codemirror_mode": {
    "name": "ipython",
    "version": 3
   },
   "file_extension": ".py",
   "mimetype": "text/x-python",
   "name": "python",
   "nbconvert_exporter": "python",
   "pygments_lexer": "ipython3",
   "version": "3.6.13"
  }
 },
 "nbformat": 4,
 "nbformat_minor": 2
}
