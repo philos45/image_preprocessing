{
 "cells": [
  {
   "cell_type": "code",
   "execution_count": 48,
   "id": "2087c7c9",
   "metadata": {},
   "outputs": [
    {
     "name": "stdout",
     "output_type": "stream",
     "text": [
      "shape:  (720, 1280, 3)\n"
     ]
    }
   ],
   "source": [
    "import numpy as np\n",
    "import cv2\n",
    "img_color = cv2.imread('./img/sample4.png')\n",
    "img_color = cv2.imread('./img/sample1.png')\n",
    "print('shape: ', img_color.shape)\n",
    "height, width = img_color.shape[:2]\n",
    "\n",
    "x_length = int(img_color.shape[1])\n",
    "half = int(img_color.shape[0]/2)\n",
    "\n",
    "cropped_img = img_color[0:half,0+int(x_length/5):x_length-int(x_length/5)]"
   ]
  },
  {
   "cell_type": "code",
   "execution_count": 49,
   "id": "48e5b8e0",
   "metadata": {},
   "outputs": [],
   "source": [
    "img_hsv = cv2.cvtColor(cropped_img, cv2.COLOR_BGR2HSV)\n",
    "\n",
    "lower_blue = (60, 30, 30)\n",
    "upper_blue = (180, 255, 255)\n",
    "\n",
    "img_mask = cv2.inRange(img_hsv, lower_blue, upper_blue)\n",
    "img_result = cv2.bitwise_and(cropped_img, cropped_img, mask = img_mask)\n",
    "\n",
    "cv2.imshow('img_origin', cropped_img)\n",
    "cv2.imshow('img_mask', img_mask)\n",
    "cv2.imshow('img_result', img_result)\n",
    "cv2.waitKey(0)\n",
    "cv2.destroyAllWindows()"
   ]
  },
  {
   "cell_type": "code",
   "execution_count": 50,
   "id": "2060eab5",
   "metadata": {},
   "outputs": [
    {
     "data": {
      "text/plain": [
       "318909543"
      ]
     },
     "execution_count": 50,
     "metadata": {},
     "output_type": "execute_result"
    }
   ],
   "source": [
    "img_color.sum()"
   ]
  },
  {
   "cell_type": "code",
   "execution_count": 51,
   "id": "c6e9ef9f",
   "metadata": {},
   "outputs": [
    {
     "data": {
      "text/plain": [
       "158888160"
      ]
     },
     "execution_count": 51,
     "metadata": {},
     "output_type": "execute_result"
    }
   ],
   "source": [
    "cropped_img.sum()"
   ]
  },
  {
   "cell_type": "code",
   "execution_count": 52,
   "id": "053278f1",
   "metadata": {},
   "outputs": [
    {
     "data": {
      "text/plain": [
       "523515"
      ]
     },
     "execution_count": 52,
     "metadata": {},
     "output_type": "execute_result"
    }
   ],
   "source": [
    "img_mask.sum()"
   ]
  },
  {
   "cell_type": "code",
   "execution_count": 53,
   "id": "6f0b35ac",
   "metadata": {},
   "outputs": [
    {
     "data": {
      "text/plain": [
       "320240"
      ]
     },
     "execution_count": 53,
     "metadata": {},
     "output_type": "execute_result"
    }
   ],
   "source": [
    "img_result.sum()"
   ]
  },
  {
   "cell_type": "code",
   "execution_count": null,
   "id": "eeed623b",
   "metadata": {},
   "outputs": [],
   "source": []
  }
 ],
 "metadata": {
  "kernelspec": {
   "display_name": "Python 3",
   "language": "python",
   "name": "python3"
  },
  "language_info": {
   "codemirror_mode": {
    "name": "ipython",
    "version": 3
   },
   "file_extension": ".py",
   "mimetype": "text/x-python",
   "name": "python",
   "nbconvert_exporter": "python",
   "pygments_lexer": "ipython3",
   "version": "3.8.8"
  }
 },
 "nbformat": 4,
 "nbformat_minor": 5
}
