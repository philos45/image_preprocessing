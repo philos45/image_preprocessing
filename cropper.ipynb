{
 "cells": [
  {
   "cell_type": "code",
   "execution_count": 9,
   "id": "cf63c654",
   "metadata": {},
   "outputs": [],
   "source": [
    "import os\n",
    "import cv2\n",
    "import pandas as pd\n",
    "import numpy as np"
   ]
  },
  {
   "cell_type": "markdown",
   "id": "5cc26d7b",
   "metadata": {},
   "source": [
    "# input"
   ]
  },
  {
   "cell_type": "code",
   "execution_count": 10,
   "id": "210df6f7",
   "metadata": {},
   "outputs": [
    {
     "data": {
      "text/plain": [
       "0"
      ]
     },
     "execution_count": 10,
     "metadata": {},
     "output_type": "execute_result"
    }
   ],
   "source": [
    "dir_name='temp'\n",
    "os.system('mkdir {}'.format(dir_name))"
   ]
  },
  {
   "cell_type": "code",
   "execution_count": 11,
   "id": "d4383273",
   "metadata": {},
   "outputs": [
    {
     "data": {
      "text/plain": [
       "0"
      ]
     },
     "execution_count": 11,
     "metadata": {},
     "output_type": "execute_result"
    }
   ],
   "source": [
    "os.system('mkdir ./{}/data'.format(dir_name))\n",
    "os.system('mkdir ./{}/data/train'.format(dir_name))\n",
    "os.system('mkdir ./{}/data/test'.format(dir_name))\n",
    "os.system('mkdir ./{}/data/val'.format(dir_name))\n",
    "os.system('mkdir ./{}/data/train_labels'.format(dir_name))\n",
    "os.system('mkdir ./{}/data/test_labels'.format(dir_name))\n",
    "os.system('mkdir ./{}/data/val_labels'.format(dir_name))"
   ]
  },
  {
   "cell_type": "code",
   "execution_count": 12,
   "id": "aa090eb1",
   "metadata": {},
   "outputs": [],
   "source": [
    "def search(dirname):\n",
    "    jpg_list = []\n",
    "    png_list = []\n",
    "    filenames = os.listdir(dirname)\n",
    "    for filename in filenames:\n",
    "        full_filename = os.path.join(dirname, filename)\n",
    "        ext = os.path.splitext(full_filename)[-1]\n",
    "        if ext == '.jpg': \n",
    "            jpg_list.append(full_filename.split('/')[-1])\n",
    "        elif ext == '.png':\n",
    "            png_list.append(full_filename.split('/')[-1])\n",
    "    return jpg_list, png_list\n",
    "\n",
    "jpg_ls = sorted(search('/home/munkyu/trans_code/inTest/JPEGImages/')[0])\n",
    "png_ls = sorted(search('/home/munkyu/trans_code/inTest/SegmentationClassPNG/')[1])"
   ]
  },
  {
   "cell_type": "code",
   "execution_count": 13,
   "id": "1d41cd68",
   "metadata": {},
   "outputs": [
    {
     "name": "stdout",
     "output_type": "stream",
     "text": [
      "4\n",
      "5\n",
      "6\n",
      "7\n",
      "8\n",
      "9\n",
      "10\n",
      "11\n",
      "12\n",
      "13\n",
      "14\n",
      "15\n",
      "16\n",
      "17\n",
      "18\n",
      "19\n",
      "20\n",
      "21\n",
      "22\n",
      "23\n",
      "24\n",
      "25\n",
      "26\n",
      "27\n",
      "28\n",
      "29\n",
      "30\n",
      "31\n",
      "32\n",
      "33\n",
      "34\n",
      "35\n",
      "36\n",
      "37\n",
      "38\n",
      "39\n",
      "40\n",
      "41\n",
      "42\n",
      "43\n",
      "44\n",
      "45\n",
      "46\n",
      "47\n",
      "48\n",
      "49\n",
      "50\n",
      "51\n",
      "52\n",
      "53\n",
      "54\n",
      "55\n",
      "56\n",
      "57\n",
      "58\n",
      "59\n",
      "60\n",
      "61\n",
      "62\n",
      "63\n",
      "64\n",
      "65\n",
      "66\n",
      "67\n",
      "68\n",
      "69\n",
      "70\n",
      "71\n",
      "72\n",
      "73\n"
     ]
    }
   ],
   "source": [
    "counter = 1\n",
    "for i in range(len(jpg_ls)):\n",
    "    pngData = cv2.imread('./inTest/SegmentationClassPNG/{}'.format(png_ls[i]))\n",
    "    jpgData = cv2.imread('./inTest/JPEGImages/{}'.format(jpg_ls[i]))\n",
    "    cropped_jpgData = jpgData[500:3000,1750:6250]\n",
    "    cropped_jpgData = cv2.resize(cropped_jpgData, dsize=(960, 480), interpolation=cv2.INTER_AREA)\n",
    "    \n",
    "    cropped_pngData = pngData[500:3000,1750:6250]\n",
    "    cropped_pngData = cv2.resize(cropped_pngData, dsize=(960, 480), interpolation=cv2.INTER_AREA)\n",
    "    if counter%5==1 or counter%5==3 or counter%5==4 :\n",
    "        cv2.imwrite('./{}/data/train/{}'.format(dir_name,jpg_ls[i]), cropped_jpgData)\n",
    "        cv2.imwrite('./{}/data/train_labels/{}'.format(dir_name,png_ls[i]), cropped_pngData)\n",
    "    elif counter%5==2:\n",
    "        cv2.imwrite('./{}/data/test/{}'.format(dir_name,jpg_ls[i]), cropped_jpgData)\n",
    "        cv2.imwrite('./{}/data/test_labels/{}'.format(dir_name,png_ls[i]), cropped_pngData)\n",
    "    elif counter%5==0:\n",
    "        cv2.imwrite('./{}/data/val/{}'.format(dir_name,jpg_ls[i]), cropped_jpgData)\n",
    "        cv2.imwrite('./{}/data/val_labels/{}'.format(dir_name,png_ls[i]), cropped_pngData)\n",
    "    counter+=1\n",
    "    print(counter)"
   ]
  },
  {
   "cell_type": "code",
   "execution_count": null,
   "id": "599d3a80",
   "metadata": {},
   "outputs": [],
   "source": []
  }
 ],
 "metadata": {
  "kernelspec": {
   "display_name": "Python 3",
   "language": "python",
   "name": "python3"
  },
  "language_info": {
   "codemirror_mode": {
    "name": "ipython",
    "version": 3
   },
   "file_extension": ".py",
   "mimetype": "text/x-python",
   "name": "python",
   "nbconvert_exporter": "python",
   "pygments_lexer": "ipython3",
   "version": "3.6.13"
  }
 },
 "nbformat": 4,
 "nbformat_minor": 5
}
