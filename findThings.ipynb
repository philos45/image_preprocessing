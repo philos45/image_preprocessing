{
 "cells": [
  {
   "cell_type": "code",
   "execution_count": 1,
   "metadata": {},
   "outputs": [],
   "source": [
    "import pandas as pd\n",
    "import numpy as np\n",
    "import json"
   ]
  },
  {
   "cell_type": "code",
   "execution_count": 2,
   "metadata": {},
   "outputs": [],
   "source": [
    "import os\n",
    "\n",
    "def search(dirname):\n",
    "    json_list = []\n",
    "    filenames = os.listdir(dirname)\n",
    "    for filename in filenames:\n",
    "        full_filename = os.path.join(dirname, filename)\n",
    "        ext = os.path.splitext(full_filename)[-1]\n",
    "        if ext == '.json': \n",
    "            json_list.append(full_filename.split('/')[-1])\n",
    "            \n",
    "    return json_list\n"
   ]
  },
  {
   "cell_type": "code",
   "execution_count": 3,
   "metadata": {},
   "outputs": [],
   "source": [
    "findThings='stair'\n",
    "\n",
    "json_ls = sorted(search('/home/munkyu/trans_code/하늘숲재가공/'))"
   ]
  },
  {
   "cell_type": "code",
   "execution_count": 4,
   "metadata": {},
   "outputs": [],
   "source": [
    "thing_list = []\n",
    "for file_length in range(len(json_ls)):\n",
    "    with open('./하늘숲재가공/{}'.format(json_ls[file_length]), 'r') as f:\n",
    "        json_data = json.load(f)\n",
    "\n",
    "    for idx in range(len(json_data['shapes'])):\n",
    "        thing_list.append(json_data['shapes'][idx]['label'])\n",
    "            \n"
   ]
  },
  {
   "cell_type": "code",
   "execution_count": 6,
   "metadata": {},
   "outputs": [
    {
     "ename": "FileNotFoundError",
     "evalue": "[Errno 2] No such file or directory: '/home/munkyu/하늘숲3/'",
     "output_type": "error",
     "traceback": [
      "\u001b[0;31m---------------------------------------------------------------------------\u001b[0m",
      "\u001b[0;31mFileNotFoundError\u001b[0m                         Traceback (most recent call last)",
      "\u001b[0;32m<ipython-input-6-ce7420a37610>\u001b[0m in \u001b[0;36m<module>\u001b[0;34m\u001b[0m\n\u001b[0;32m----> 1\u001b[0;31m \u001b[0mjson_ls\u001b[0m \u001b[0;34m=\u001b[0m \u001b[0msorted\u001b[0m\u001b[0;34m(\u001b[0m\u001b[0msearch\u001b[0m\u001b[0;34m(\u001b[0m\u001b[0;34m'/home/munkyu/하늘숲3/'\u001b[0m\u001b[0;34m)\u001b[0m\u001b[0;34m)\u001b[0m\u001b[0;34m\u001b[0m\u001b[0;34m\u001b[0m\u001b[0m\n\u001b[0m\u001b[1;32m      2\u001b[0m \u001b[0;32mfor\u001b[0m \u001b[0mfile_length\u001b[0m \u001b[0;32min\u001b[0m \u001b[0mrange\u001b[0m\u001b[0;34m(\u001b[0m\u001b[0mlen\u001b[0m\u001b[0;34m(\u001b[0m\u001b[0mjson_ls\u001b[0m\u001b[0;34m)\u001b[0m\u001b[0;34m)\u001b[0m\u001b[0;34m:\u001b[0m\u001b[0;34m\u001b[0m\u001b[0;34m\u001b[0m\u001b[0m\n\u001b[1;32m      3\u001b[0m     \u001b[0;32mwith\u001b[0m \u001b[0mopen\u001b[0m\u001b[0;34m(\u001b[0m\u001b[0;34m'../하늘숲3/{}'\u001b[0m\u001b[0;34m.\u001b[0m\u001b[0mformat\u001b[0m\u001b[0;34m(\u001b[0m\u001b[0mjson_ls\u001b[0m\u001b[0;34m[\u001b[0m\u001b[0mfile_length\u001b[0m\u001b[0;34m]\u001b[0m\u001b[0;34m)\u001b[0m\u001b[0;34m,\u001b[0m \u001b[0;34m'r'\u001b[0m\u001b[0;34m)\u001b[0m \u001b[0;32mas\u001b[0m \u001b[0mf\u001b[0m\u001b[0;34m:\u001b[0m\u001b[0;34m\u001b[0m\u001b[0;34m\u001b[0m\u001b[0m\n\u001b[1;32m      4\u001b[0m         \u001b[0mjson_data\u001b[0m \u001b[0;34m=\u001b[0m \u001b[0mjson\u001b[0m\u001b[0;34m.\u001b[0m\u001b[0mload\u001b[0m\u001b[0;34m(\u001b[0m\u001b[0mf\u001b[0m\u001b[0;34m)\u001b[0m\u001b[0;34m\u001b[0m\u001b[0;34m\u001b[0m\u001b[0m\n\u001b[1;32m      5\u001b[0m \u001b[0;34m\u001b[0m\u001b[0m\n",
      "\u001b[0;32m<ipython-input-2-4dbaad5e7f02>\u001b[0m in \u001b[0;36msearch\u001b[0;34m(dirname)\u001b[0m\n\u001b[1;32m      3\u001b[0m \u001b[0;32mdef\u001b[0m \u001b[0msearch\u001b[0m\u001b[0;34m(\u001b[0m\u001b[0mdirname\u001b[0m\u001b[0;34m)\u001b[0m\u001b[0;34m:\u001b[0m\u001b[0;34m\u001b[0m\u001b[0;34m\u001b[0m\u001b[0m\n\u001b[1;32m      4\u001b[0m     \u001b[0mjson_list\u001b[0m \u001b[0;34m=\u001b[0m \u001b[0;34m[\u001b[0m\u001b[0;34m]\u001b[0m\u001b[0;34m\u001b[0m\u001b[0;34m\u001b[0m\u001b[0m\n\u001b[0;32m----> 5\u001b[0;31m     \u001b[0mfilenames\u001b[0m \u001b[0;34m=\u001b[0m \u001b[0mos\u001b[0m\u001b[0;34m.\u001b[0m\u001b[0mlistdir\u001b[0m\u001b[0;34m(\u001b[0m\u001b[0mdirname\u001b[0m\u001b[0;34m)\u001b[0m\u001b[0;34m\u001b[0m\u001b[0;34m\u001b[0m\u001b[0m\n\u001b[0m\u001b[1;32m      6\u001b[0m     \u001b[0;32mfor\u001b[0m \u001b[0mfilename\u001b[0m \u001b[0;32min\u001b[0m \u001b[0mfilenames\u001b[0m\u001b[0;34m:\u001b[0m\u001b[0;34m\u001b[0m\u001b[0;34m\u001b[0m\u001b[0m\n\u001b[1;32m      7\u001b[0m         \u001b[0mfull_filename\u001b[0m \u001b[0;34m=\u001b[0m \u001b[0mos\u001b[0m\u001b[0;34m.\u001b[0m\u001b[0mpath\u001b[0m\u001b[0;34m.\u001b[0m\u001b[0mjoin\u001b[0m\u001b[0;34m(\u001b[0m\u001b[0mdirname\u001b[0m\u001b[0;34m,\u001b[0m \u001b[0mfilename\u001b[0m\u001b[0;34m)\u001b[0m\u001b[0;34m\u001b[0m\u001b[0;34m\u001b[0m\u001b[0m\n",
      "\u001b[0;31mFileNotFoundError\u001b[0m: [Errno 2] No such file or directory: '/home/munkyu/하늘숲3/'"
     ]
    }
   ],
   "source": [
    "json_ls = sorted(search('/home/munkw/'))\n",
    "for file_length in range(len(json_ls)):\n",
    "    with open('../하늘숲3/{}'.format(json_ls[file_length]), 'r') as f:\n",
    "        json_data = json.load(f)\n",
    "\n",
    "    for idx in range(len(json_data['shapes'])):\n",
    "        thing_list.append(json_data['shapes'][idx]['label'])\n",
    "            "
   ]
  },
  {
   "cell_type": "code",
   "execution_count": 5,
   "metadata": {},
   "outputs": [
    {
     "data": {
      "text/plain": [
       "['balcony',\n",
       " 'build',\n",
       " 'bush',\n",
       " 'clothbox',\n",
       " 'crosswalk',\n",
       " 'door',\n",
       " 'guidesign',\n",
       " 'lamp',\n",
       " 'lanebar',\n",
       " 'largepot',\n",
       " 'noparking',\n",
       " 'road',\n",
       " 'roadsign',\n",
       " 'roof',\n",
       " 'sky',\n",
       " 'speedbump',\n",
       " 'stairs',\n",
       " 'switchboard',\n",
       " 'walkroad',\n",
       " 'wall',\n",
       " 'window']"
      ]
     },
     "execution_count": 5,
     "metadata": {},
     "output_type": "execute_result"
    }
   ],
   "source": [
    "sorted(set(thing_list))"
   ]
  },
  {
   "cell_type": "code",
   "execution_count": 23,
   "metadata": {},
   "outputs": [],
   "source": [
    "pd.DataFrame(sorted(set(thing_list))).to_csv(\"engEdit.csv\")"
   ]
  },
  {
   "cell_type": "code",
   "execution_count": 45,
   "metadata": {},
   "outputs": [
    {
     "name": "stdout",
     "output_type": "stream",
     "text": [
      "sign_a ladybug_panoramic_000203.json\n",
      "sign_a ladybug_panoramic_000226.json\n",
      "sign_a ladybug_panoramic_000205.json\n",
      "sign_a ladybug_panoramic_000192.json\n",
      "sign_a ladybug_panoramic_000192.json\n",
      "sign_a ladybug_panoramic_000204.json\n",
      "sign_a ladybug_panoramic_000195.json\n",
      "sign_a ladybug_panoramic_000208.json\n",
      "sign_a ladybug_panoramic_000202.json\n",
      "sign_a ladybug_panoramic_000198.json\n",
      "sign_a ladybug_panoramic_000197.json\n",
      "sign_a ladybug_panoramic_000223.json\n",
      "sign_a ladybug_panoramic_000207.json\n",
      "sign_a ladybug_panoramic_000196.json\n",
      "sign_a ladybug_panoramic_000200.json\n",
      "sign_a ladybug_panoramic_000222.json\n",
      "sign_a ladybug_panoramic_000201.json\n",
      "sign_a ladybug_panoramic_000224.json\n",
      "sign_a ladybug_panoramic_000229.json\n",
      "sign_a ladybug_panoramic_000225.json\n",
      "sign_a ladybug_panoramic_000206.json\n",
      "sign_a ladybug_panoramic_000206.json\n",
      "sign_a ladybug_panoramic_000188.json\n",
      "sign_a ladybug_panoramic_000194.json\n",
      "sign_a ladybug_panoramic_000199.json\n",
      "sign_a ladybug_panoramic_000227.json\n",
      "sign_a ladybug_panoramic_000228.json\n"
     ]
    }
   ],
   "source": [
    "findThings='sign_a'\n",
    "json_ls = search('/home/munkyu/하늘숲4/')\n",
    "\n",
    "            \n",
    "for file_length in range(len(json_ls)):\n",
    "    with open('../하늘숲4/{}'.format(json_ls[file_length]), 'r') as f:\n",
    "        json_data = json.load(f)\n",
    "    for idx in range(len(json_data['shapes'])):\n",
    "        if json_data['shapes'][idx]['label'] == findThings:\n",
    "            print(findThings,json_ls[file_length])"
   ]
  }
 ],
 "metadata": {
  "kernelspec": {
   "display_name": "Python 3",
   "language": "python",
   "name": "python3"
  },
  "language_info": {
   "codemirror_mode": {
    "name": "ipython",
    "version": 3
   },
   "file_extension": ".py",
   "mimetype": "text/x-python",
   "name": "python",
   "nbconvert_exporter": "python",
   "pygments_lexer": "ipython3",
   "version": "3.6.13"
  }
 },
 "nbformat": 4,
 "nbformat_minor": 2
}
